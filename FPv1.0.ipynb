{
 "cells": [
  {
   "cell_type": "markdown",
   "metadata": {},
   "source": [
    "# Showing a graph\n",
    "\n",
    "Basically, this project will show you a graph, which you need to plot (first level - 2D plot; later, I will add function of plotting the 3D graphs). There is going to be a *menu-bar* in which there will be buttons *about*, *exit* (and later *plot the 3D graph* which enables you to switch between 2D and 3D plotting).\n",
    "\n",
    "### Buttons/Text Boxes\n",
    "\n",
    "-> *Borders* - allows you to choose the interval in which you want to build your graph;\n",
    "\n",
    "-> *Plot* - draw your graph\n",
    "\n",
    "-> *Advanced* - opens an additional window/part of the program, where you can find an advanced settings - the color of your graph, will it be solid or bashed etc."
   ]
  },
  {
   "cell_type": "code",
   "execution_count": 7,
   "metadata": {
    "collapsed": false
   },
   "outputs": [
    {
     "name": "stdout",
     "output_type": "stream",
     "text": [
      "Overwriting FPv1.0.py\n"
     ]
    }
   ],
   "source": [
    "%%writefile FPv1.0.py\n",
    "import os\n",
    "import wx\n",
    "# Importing the Class from another file\n",
    "from FP_PlottingPanel import PlottingPanel\n",
    "#from example import ExamplePanel\n",
    "\n",
    "class MainWindow(wx.Frame):\n",
    "    \n",
    "    def __init__(self, parent, title):\n",
    "        \n",
    "        wx.Frame.__init__(self, parent, title=title, size=(900, 500))\n",
    "        #self.control = wx.TextCtrl(self, style = wx.TE_MULTILINE)\n",
    "        # Creating statusBar in the bottom of the Window\n",
    "        self.CreateStatusBar()\n",
    "        \n",
    "        # Setting up the menu\n",
    "        filemenu = wx.Menu() \n",
    "        menuAbout = filemenu.Append(wx.ID_ABOUT, \"&About\", \"Information about this program\")\n",
    "        menuExit = filemenu.Append(wx.ID_EXIT, \"&Exit\", \"Terminate the program\")\n",
    "        \n",
    "        # Creating the menubar\n",
    "        menuBar = wx.MenuBar()\n",
    "        # Adding the \"filemenu\" to the MenuBar\n",
    "        menuBar.Append(filemenu, \"&File\")\n",
    "        self.SetMenuBar(menuBar)\n",
    "        \n",
    "        # Set events\n",
    "        self.Bind(wx.EVT_MENU, self.OnAbout, menuAbout)\n",
    "        self.Bind(wx.EVT_MENU, self.OnExit, menuExit)\n",
    "        self.Show(True)\n",
    "        \n",
    "    def OnAbout(self, e):\n",
    "        # A message dialog box with an OK button\n",
    "        dlg = wx.MessageDialog(self,\"About FP\", \"Final project for Computer skills class\", wx.OK)\n",
    "        # Show it\n",
    "        dlg.ShowModal()\n",
    "        # Destroying after finishing\n",
    "        dlg.Destroy\n",
    "    \n",
    "    # Method for closing the frame\n",
    "    def OnExit(self, e):\n",
    "        self.Close(True)\n",
    "        \n",
    "app = wx.App(False)\n",
    "frame = MainWindow(None, \"Final Project\")\n",
    "panel = PlottingPanel(frame)\n",
    "frame.Show()\n",
    "app.MainLoop()"
   ]
  },
  {
   "cell_type": "code",
   "execution_count": 6,
   "metadata": {
    "collapsed": false
   },
   "outputs": [
    {
     "name": "stdout",
     "output_type": "stream",
     "text": [
      "Overwriting FP_PlottingPanel.py\n"
     ]
    }
   ],
   "source": [
    "%%writefile FP_PlottingPanel.py\n",
    "from matplotlib.backends.backend_wxagg import FigureCanvasWxAgg as FigureCanvas\n",
    "from matplotlib.figure import Figure\n",
    "import wx\n",
    "\n",
    "class PlottingPanel(wx.Panel):\n",
    "    def __init__(self, parent):\n",
    "        wx.Panel.__init__(self, parent)\n",
    "        # Creating the \"Label\", which shows you static text\n",
    "        self.quote = wx.StaticText(self, label = \"Please, insert the function:\", pos = (20, 30))\n",
    "        self.quote = wx.StaticText(self, label = \"f(x)=\", pos = (20, 60))\n",
    "        # Just for Checking whther it is working or not\n",
    "        # self.logger = wx.TextCtrl(self, pos = (300, 20), size = (100, 100), style=wx.TE_MULTILINE | wx.TE_READONLY)\n",
    "        # Creating the \"TextCtrl\". You can type here\n",
    "        self.editfunction = wx.TextCtrl(self, value = \"\", pos = (50, 60), size = (200, -1))\n",
    "        self.Bind(wx.EVT_TEXT, self.EvtText, self.editfunction)\n",
    "        # Creating the \"Button\", which will delete the text in the cell\n",
    "        self.deleteTextButton = wx.Button(self, label = \"X\", pos=(250, 59), size=(30, 30))\n",
    "        # Creating the \"Button\", which will plot your graph\n",
    "        self.plotButton = wx.Button(self, label = \"Plot\", pos = (30, 100))\n",
    "        # Creating a button which will erase your graph\n",
    "        self.eraseButton = wx.Button(self, label = \"Erase\", pos = (150, 100))\n",
    "        \n",
    "    # This one is for experimental purposes (will be rewritten soon)\n",
    "    def EvtText(self, event):\n",
    "        self.logger.AppendText('Evttext: %s\\n' %event.GetString())\n",
    "        \n",
    "'Creating the class PlottingFrame for plotting the graph'\n",
    "class PlottingFrame(wx.Frame):\n",
    "    def GraphPanel(self):\n",
    "        wx.Panel.GraphPanel(self, None, -1,\n",
    "                          'GraphPanel', size=(550, 350))\n",
    "\n",
    "        self.figure = Figure()\n",
    "        self.axes = self.figure.add_subplot(111)\n",
    "        t = arange(0.0, 3.0, 0.01)\n",
    "        s = sin(2 * pi * t)\n",
    "\n",
    "        self.axes.plot(t, s)\n",
    "        self.canvas = FigureCanvas(self, -1, self.figure)\n",
    "\n",
    "        self.sizer = wx.BoxSizer(wx.VERTICAL)\n",
    "        self.sizer.Add(self.canvas, 1, wx.LEFT | wx.TOP | wx.EXPAND)\n",
    "        self.SetSizer(self.sizer)\n",
    "        self.Fit()\n",
    "        "
   ]
  },
  {
   "cell_type": "code",
   "execution_count": 5,
   "metadata": {
    "collapsed": false
   },
   "outputs": [
    {
     "name": "stdout",
     "output_type": "stream",
     "text": [
      "Overwriting example.py\n"
     ]
    }
   ],
   "source": []
  },
  {
   "cell_type": "code",
   "execution_count": 1,
   "metadata": {
    "collapsed": false
   },
   "outputs": [
    {
     "name": "stdout",
     "output_type": "stream",
     "text": [
      "Overwriting control_demo.py\n"
     ]
    }
   ],
   "source": [
    "%%writefile control_demo.py\n",
    "import wx\n",
    "from example import ExamplePanel\n",
    "\n",
    "app = wx.App(False)\n",
    "frame = wx.Frame(None,size=(500,400))\n",
    "panel = ExamplePanel(frame)\n",
    "frame.Show()\n",
    "app.MainLoop()"
   ]
  },
  {
   "cell_type": "code",
   "execution_count": null,
   "metadata": {
    "collapsed": true
   },
   "outputs": [],
   "source": []
  }
 ],
 "metadata": {
  "anaconda-cloud": {},
  "kernelspec": {
   "display_name": "Python [conda root]",
   "language": "python",
   "name": "conda-root-py"
  },
  "language_info": {
   "codemirror_mode": {
    "name": "ipython",
    "version": 2
   },
   "file_extension": ".py",
   "mimetype": "text/x-python",
   "name": "python",
   "nbconvert_exporter": "python",
   "pygments_lexer": "ipython2",
   "version": "2.7.12"
  }
 },
 "nbformat": 4,
 "nbformat_minor": 1
}
