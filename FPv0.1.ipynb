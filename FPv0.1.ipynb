{
 "cells": [
  {
   "cell_type": "markdown",
   "metadata": {},
   "source": [
    "# Showing a graph\n",
    "\n",
    "Basically, this project will show you a graph, which you need to plot (first level - 2D plot; later, I will add function of plotting the 3D graphs). There is going to be a *menu-bar* in which there will be buttons *about*, *exit* (and later *plot the 3D graph* which enables you to switch between 2D and 3D plotting).\n",
    "\n",
    "### Buttons/Text Boxes\n",
    "\n",
    "-> *Borders* - allows you to choose the interval in which you want to build your graph;\n",
    "\n",
    "-> *Plot* - draw your graph\n",
    "\n",
    "-> *Advanced* - opens an additional window/part of the program, where you can find an advanced settings - the color of your graph, will it be solid or bashed etc."
   ]
  },
  {
   "cell_type": "code",
   "execution_count": 1,
   "metadata": {
    "collapsed": false
   },
   "outputs": [],
   "source": [
    "import os\n",
    "import wx\n",
    "\n",
    "class MainWindow(wx.Frame):\n",
    "    \n",
    "    def __init__(self, parent, title):\n",
    "        \n",
    "        wx.Frame.__init__(self, parent, title=title, size=(200, 100))\n",
    "        self.control = wx.TextCtrl(self, style = wx.TE_MULTILINE)\n",
    "        # Creating statusBar in the bottom of the Window\n",
    "        self.CreateStatusBar()\n",
    "        \n",
    "        # Setting up the menu\n",
    "        filemenu = wx.Menu() \n",
    "        menuAbout = filemenu.Append(wx.ID_ABOUT, \"&About\", \"Information about this program\")\n",
    "        menuExit = filemenu.Append(wx.ID_EXIT, \"&Exit\", \"Terminate the program\")\n",
    "        \n",
    "        # Creating the menubar\n",
    "        menuBar = wx.MenuBar()\n",
    "        # Adding the \"filemenu\" to the MenuBar\n",
    "        menuBar.Append(filemenu, \"&File\")\n",
    "        self.SetMenuBar(menuBar)\n",
    "        \n",
    "        # Set events\n",
    "        self.Bind(wx.EVT_MENU, self.OnAbout, menuAbout)\n",
    "        self.Bind(wx.EVT_MENU, self.OnExit, menuExit)\n",
    "        self.Show(True)\n",
    "        \n",
    "    def OnAbout(self, e):\n",
    "        # A message dialog box with an OK button\n",
    "        dlg = wx.MessageDialog(self,\"About FP\", \"Final project for Computer skills class\", wx.OK)\n",
    "        # Show it\n",
    "        dlg.ShowModal()\n",
    "        # Destroying after finishing\n",
    "        dlg.Destroy\n",
    "    \n",
    "    # Method for closing the frame\n",
    "    def OnExit(self, e):\n",
    "        self.Close(True)\n",
    "        \n",
    "        \n",
    "app = wx.App(False)\n",
    "frame = MainWindow(None, \"Final Project\")\n",
    "app.MainLoop()"
   ]
  },
  {
   "cell_type": "code",
   "execution_count": null,
   "metadata": {
    "collapsed": true
   },
   "outputs": [],
   "source": []
  }
 ],
 "metadata": {
  "anaconda-cloud": {},
  "kernelspec": {
   "display_name": "Python [conda root]",
   "language": "python",
   "name": "conda-root-py"
  },
  "language_info": {
   "codemirror_mode": {
    "name": "ipython",
    "version": 2
   },
   "file_extension": ".py",
   "mimetype": "text/x-python",
   "name": "python",
   "nbconvert_exporter": "python",
   "pygments_lexer": "ipython2",
   "version": "2.7.12"
  }
 },
 "nbformat": 4,
 "nbformat_minor": 1
}
